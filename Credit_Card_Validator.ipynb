{
 "cells": [
  {
   "cell_type": "code",
   "execution_count": 9,
   "id": "816b9682-22ca-499d-83ac-c841fb45bff9",
   "metadata": {},
   "outputs": [],
   "source": [
    "def validate_cc(n):\n",
    "    digit_list=number_to_list(n)\n",
    "    \n",
    "    if len(digit_list)%2==0:\n",
    "        double_alt_digits(0,digit_list)\n",
    "    else:\n",
    "        double_alt_digits(1,digit_list)\n",
    "    return sum(digit_list)%10==0"
   ]
  },
  {
   "cell_type": "code",
   "execution_count": 11,
   "id": "29ad08bd-08c0-4eca-bb31-cf0f087a1057",
   "metadata": {},
   "outputs": [],
   "source": [
    "def number_to_list(n):\n",
    "    return [int(x) for x in str(n)]"
   ]
  },
  {
   "cell_type": "code",
   "execution_count": 13,
   "id": "04643a79-3f70-4bdf-b440-778990ad7b54",
   "metadata": {},
   "outputs": [],
   "source": [
    "def double_alt_digits(start_index,digit_list):\n",
    "    for i in range(start_index,len(digit_list),2):\n",
    "        double_value=digit_list[i]*2\n",
    "        if double_value<10:\n",
    "            digit_list[i]= double_value\n",
    "        else:\n",
    "            digit_list[i]=sum_of_digits(double_value)"
   ]
  },
  {
   "cell_type": "code",
   "execution_count": 15,
   "id": "ffd14e43-166d-4a1f-8521-ec15be0412e2",
   "metadata": {},
   "outputs": [
    {
     "name": "stdin",
     "output_type": "stream",
     "text": [
      "Enter CC number to validate\n",
      "> 4532015112830366\n"
     ]
    },
    {
     "name": "stdout",
     "output_type": "stream",
     "text": [
      "True\n"
     ]
    }
   ],
   "source": [
    "def sum_of_digits(n):\n",
    "    return(n//10)+(n%10)\n",
    "print(validate_cc(int(input(\"Enter CC number to validate\\n>\"))))"
   ]
  },
  {
   "cell_type": "code",
   "execution_count": null,
   "id": "7d719002-562d-4892-9168-9470fe1d4d5a",
   "metadata": {},
   "outputs": [],
   "source": []
  }
 ],
 "metadata": {
  "kernelspec": {
   "display_name": "Python 3 (ipykernel)",
   "language": "python",
   "name": "python3"
  },
  "language_info": {
   "codemirror_mode": {
    "name": "ipython",
    "version": 3
   },
   "file_extension": ".py",
   "mimetype": "text/x-python",
   "name": "python",
   "nbconvert_exporter": "python",
   "pygments_lexer": "ipython3",
   "version": "3.12.4"
  }
 },
 "nbformat": 4,
 "nbformat_minor": 5
}
